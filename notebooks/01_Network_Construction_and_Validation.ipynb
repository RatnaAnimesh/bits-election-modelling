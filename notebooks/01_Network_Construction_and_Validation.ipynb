{
 "cells": [
  {
   "cell_type": "markdown",
   "metadata": {},
   "source": [
    "# 1. Network Construction & Initial Validation"
   ]
  },
  {
   "cell_type": "markdown",
   "metadata": {},
   "source": [
    "This notebook covers the first steps of the simulation plan: loading the synthetic data, constructing the social network graph using `networkx`, and performing a basic structural validation to ensure the graph is well-formed."
   ]
  },
  {
   "cell_type": "code",
   "execution_count": null,
   "metadata": {},
   "outputs": [],
   "source": [
    "import pandas as pd\n",
    "import networkx as nx\n",
    "import matplotlib.pyplot as plt\n",
    "import numpy as np\n",
    "\n",
    "pd.options.display.max_rows = 10"
   ]
  },
  {
   "cell_type": "markdown",
   "metadata": {},
   "source": [
    "## Load Datasets"
   ]
  },
  {
   "cell_type": "code",
   "execution_count": null,
   "metadata": {},
   "outputs": [],
   "source": [
    "STUDENTS_PATH = \"../data/students.csv\"\n",
    "EDGES_PATH = \"../data/edges.csv\"\n",
    "\n",
    "try:\n",
    "    students_df = pd.read_csv(STUDENTS_PATH)\n",
    "    edges_df = pd.read_csv(EDGES_PATH)\n",
    "    print(\"Successfully loaded datasets.\")\n",
    "except FileNotFoundError as e:\n",
    "    print(f\"Error: {e}. Make sure you have run the data generation script first.\")"
   ]
  },
  {
   "cell_type": "code",
   "execution_count": null,
   "metadata": {},
   "outputs": [],
   "source": [
    "students_df.head()"
   ]
  },
  {
   "cell_type": "code",
   "execution_count": null,
   "metadata": {},
   "outputs": [],
   "source": [
    "edges_df.head()"
   ]
  },
  {
   "cell_type": "markdown",
   "metadata": {},
   "source": [
    "## Construct the Graph"
   ]
  },
  {
   "cell_type": "code",
   "execution_count": null,
   "metadata": {},
   "outputs": [],
   "source": [
    "G = nx.Graph()\n",
    "\n",
    "# Add nodes with attributes from the students dataframe\n",
    "for index, row in students_df.iterrows():\n",
    "    node_id = row['id']\n",
    "    attributes = row.to_dict()\n",
    "    G.add_node(node_id, **attributes)\n",
    "\n",
    "# Add edges with attributes from the edges dataframe\n",
    "for index, row in edges_df.iterrows():\n",
    "    G.add_edge(row['source'], row['target'], layer=row['layer'], weight=row['weight'])"
   ]
  },
  {
   "cell_type": "markdown",
   "metadata": {},
   "source": [
    "## Structural Validation"
   ]
  },
  {
   "cell_type": "code",
   "execution_count": null,
   "metadata": {},
   "outputs": [],
   "source": [
    "num_nodes = G.number_of_nodes()\n",
    "num_edges = G.number_of_edges()\n",
    "\n",
    "print(f\"Graph constructed successfully.\")\n",
    "print(f\"Number of nodes: {num_nodes}\")\n",
    "print(f\"Number of edges: {num_edges}\")"
   ]
  },
  {
   "cell_type": "markdown",
   "metadata": {},
   "source": [
    "### Degree Distribution"
   ]
  },
  {
   "cell_type": "code",
   "execution_count": null,
   "metadata": {},
   "outputs": [],
   "source": [
    "degrees = [G.degree(n) for n in G.nodes()]\n",
    "\n",
    "plt.figure(figsize=(10, 6))\n",
    "plt.hist(degrees, bins=50, alpha=0.75)\n",
    "plt.title(\"Node Degree Distribution\")\n",
    "plt.xlabel(\"Degree\")\n",
    "plt.ylabel(\"Frequency\")\n",
    "plt.grid(True)\n",
    "plt.show()"
   ]
  },
  {
   "cell_type": "markdown",
   "metadata": {},
   "source": [
    "### Clustering Coefficient"
   ]
  },
  {
   "cell_type": "code",
   "execution_count": null,
   "metadata": {},
   "outputs": [],
   "source": [
    "# This can be slow for large graphs. We can sample if needed.\n",
    "avg_clustering = nx.average_clustering(G)\n",
    "\n",
    "print(f\"Average Clustering Coefficient: {avg_clustering:.4f}\")"
   ]
  },
  {
   "cell_type": "markdown",
   "metadata": {},
   "source": [
    "### Connected Components"
   ]
  },
  {
   "cell_type": "code",
   "execution_count": null,
   "metadata": {},
   "outputs": [],
   "source": [
    "num_components = nx.number_connected_components(G)\n",
    "print(f\"Number of connected components: {num_components}\")\n",
    "\n",
    "if num_components > 1:\n",
    "    largest_component = max(nx.connected_components(G), key=len)\n",
    "    print(f\"Size of largest component: {len(largest_component)} nodes\")"
   ]
  },
  {
   "cell_type": "markdown",
   "metadata": {},
   "source": [
    "### Multi-Layer Network Analysis"
   ]
  },
  {
   "cell_type": "code",
   "execution_count": null,
   "metadata": {},
   "outputs": [],
   "source": [
    "layer_counts = edges_df['layer'].value_counts()\n",
    "print(\"Edge Counts per Layer:\")\n",
    "print(layer_counts)"
   ]
  },
  {
   "cell_type": "code",
   "execution_count": null,
   "metadata": {},
   "outputs": [],
   "source": [
    "plt.figure(figsize=(10, 6))\n",
    "layer_counts.plot(kind='bar', color=['skyblue', 'coral', 'lightgreen', 'gold'])\n",
    "plt.title('Distribution of Edges Across Layers')\n",
    "plt.xlabel('Layer')\n",
    "plt.ylabel('Number of Edges')\n",
    "plt.xticks(rotation=45)\n",
    "plt.grid(axis='y', linestyle='--')\n",
    "plt.show()"
   ]
  },
    {
   "cell_type": "markdown",
   "metadata": {},
   "source": [
    "### Average Degree per Layer"
   ]
  },
  {
   "cell_type": "code",
   "execution_count": null,
   "metadata": {},
   "outputs": [],
   "source": [
    "for layer in edges_df['layer'].unique():\n",
    "    layer_edges = [(u, v) for u, v, d in G.edges(data=True) if d['layer'] == layer]\n",
    "    subgraph = nx.Graph(layer_edges)\n",
    "    if subgraph.number_of_nodes() > 0:\n",
    "        avg_degree = sum(dict(subgraph.degree()).values()) / subgraph.number_of_nodes()\n",
    "        print(f\"Average degree for layer '{layer}': {avg_degree:.2f}\")"
   ]
  }
 ],
 "metadata": {
  "kernelspec": {
   "display_name": "Python 3",
   "language": "python",
   "name": "python3"
  },
  "language_info": {
   "codemirror_mode": {
    "name": "ipython",
    "version": 3
   },
   "file_extension": ".py",
   "mimetype": "text/x-python",
   "name": "python",
   "nbconvert_exporter": "python",
   "pygments_lexer": "ipython3",
   "version": "3.9.7"
  }
 },
 "nbformat": 4,
 "nbformat_minor": 4
}
