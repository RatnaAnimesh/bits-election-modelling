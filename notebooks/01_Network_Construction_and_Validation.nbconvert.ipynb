{
 "cells": [
  {
   "cell_type": "markdown",
   "metadata": {},
   "source": [
    "# 1. Network Construction & Initial Validation"
   ]
  },
  {
   "cell_type": "markdown",
   "metadata": {},
   "source": [
    "This notebook covers the first steps of the simulation plan: loading the synthetic data, constructing the social network graph using `networkx`, and performing a basic structural validation to ensure the graph is well-formed."
   ]
  },
  {
   "cell_type": "code",
   "execution_count": 1,
   "metadata": {
    "execution": {
     "iopub.execute_input": "2025-10-03T18:41:48.808768Z",
     "iopub.status.busy": "2025-10-03T18:41:48.808497Z",
     "iopub.status.idle": "2025-10-03T18:41:49.273506Z",
     "shell.execute_reply": "2025-10-03T18:41:49.273271Z"
    }
   },
   "outputs": [],
   "source": [
    "import pandas as pd\n",
    "import networkx as nx\n",
    "import matplotlib.pyplot as plt\n",
    "import numpy as np\n",
    "\n",
    "pd.options.display.max_rows = 10"
   ]
  },
  {
   "cell_type": "markdown",
   "metadata": {},
   "source": [
    "## Load Datasets"
   ]
  },
  {
   "cell_type": "code",
   "execution_count": 2,
   "metadata": {
    "execution": {
     "iopub.execute_input": "2025-10-03T18:41:49.274739Z",
     "iopub.status.busy": "2025-10-03T18:41:49.274626Z",
     "iopub.status.idle": "2025-10-03T18:41:49.327309Z",
     "shell.execute_reply": "2025-10-03T18:41:49.327086Z"
    }
   },
   "outputs": [
    {
     "name": "stdout",
     "output_type": "stream",
     "text": [
      "Successfully loaded datasets.\n"
     ]
    }
   ],
   "source": [
    "STUDENTS_PATH = \"../data/students.csv\"\n",
    "EDGES_PATH = \"../data/edges.csv\"\n",
    "\n",
    "try:\n",
    "    students_df = pd.read_csv(STUDENTS_PATH)\n",
    "    edges_df = pd.read_csv(EDGES_PATH)\n",
    "    print(\"Successfully loaded datasets.\")\n",
    "except FileNotFoundError as e:\n",
    "    print(f\"Error: {e}. Make sure you have run the data generation script first.\")"
   ]
  },
  {
   "cell_type": "code",
   "execution_count": 3,
   "metadata": {
    "execution": {
     "iopub.execute_input": "2025-10-03T18:41:49.342506Z",
     "iopub.status.busy": "2025-10-03T18:41:49.342415Z",
     "iopub.status.idle": "2025-10-03T18:41:49.347599Z",
     "shell.execute_reply": "2025-10-03T18:41:49.347427Z"
    }
   },
   "outputs": [
    {
     "data": {
      "text/html": [
       "<div>\n",
       "<style scoped>\n",
       "    .dataframe tbody tr th:only-of-type {\n",
       "        vertical-align: middle;\n",
       "    }\n",
       "\n",
       "    .dataframe tbody tr th {\n",
       "        vertical-align: top;\n",
       "    }\n",
       "\n",
       "    .dataframe thead th {\n",
       "        text-align: right;\n",
       "    }\n",
       "</style>\n",
       "<table border=\"1\" class=\"dataframe\">\n",
       "  <thead>\n",
       "    <tr style=\"text-align: right;\">\n",
       "      <th></th>\n",
       "      <th>id</th>\n",
       "      <th>hostel</th>\n",
       "      <th>batch</th>\n",
       "      <th>dept</th>\n",
       "      <th>clubs</th>\n",
       "      <th>friend_degree_proxy</th>\n",
       "      <th>online_reach_proxy</th>\n",
       "      <th>baseline_turnout_propensity</th>\n",
       "      <th>slander_susceptibility</th>\n",
       "      <th>skepticism</th>\n",
       "      <th>micro_community</th>\n",
       "    </tr>\n",
       "  </thead>\n",
       "  <tbody>\n",
       "    <tr>\n",
       "      <th>0</th>\n",
       "      <td>s_f3560be4</td>\n",
       "      <td>Shankar</td>\n",
       "      <td>2022</td>\n",
       "      <td>CS</td>\n",
       "      <td>['Literature', 'Music']</td>\n",
       "      <td>0</td>\n",
       "      <td>0</td>\n",
       "      <td>0.120838</td>\n",
       "      <td>0.106976</td>\n",
       "      <td>0.417944</td>\n",
       "      <td>Malviya_EEE</td>\n",
       "    </tr>\n",
       "    <tr>\n",
       "      <th>1</th>\n",
       "      <td>s_29b134d2</td>\n",
       "      <td>Ram</td>\n",
       "      <td>2023</td>\n",
       "      <td>EEE</td>\n",
       "      <td>['Drama']</td>\n",
       "      <td>0</td>\n",
       "      <td>0</td>\n",
       "      <td>0.477030</td>\n",
       "      <td>0.376599</td>\n",
       "      <td>0.625167</td>\n",
       "      <td>Gandhi_CS</td>\n",
       "    </tr>\n",
       "    <tr>\n",
       "      <th>2</th>\n",
       "      <td>s_d6f85434</td>\n",
       "      <td>VK</td>\n",
       "      <td>2025</td>\n",
       "      <td>CHEM</td>\n",
       "      <td>['Music', 'Literature', 'Debate']</td>\n",
       "      <td>0</td>\n",
       "      <td>0</td>\n",
       "      <td>0.298996</td>\n",
       "      <td>0.870772</td>\n",
       "      <td>0.638572</td>\n",
       "      <td>Gandhi_CHEM</td>\n",
       "    </tr>\n",
       "    <tr>\n",
       "      <th>3</th>\n",
       "      <td>s_1964e81d</td>\n",
       "      <td>Budh</td>\n",
       "      <td>2022</td>\n",
       "      <td>MECH</td>\n",
       "      <td>['Sports', 'Finance']</td>\n",
       "      <td>0</td>\n",
       "      <td>0</td>\n",
       "      <td>0.442543</td>\n",
       "      <td>0.619186</td>\n",
       "      <td>0.659513</td>\n",
       "      <td>VK_MATH</td>\n",
       "    </tr>\n",
       "    <tr>\n",
       "      <th>4</th>\n",
       "      <td>s_082a5e3b</td>\n",
       "      <td>Budh</td>\n",
       "      <td>2023</td>\n",
       "      <td>EEE</td>\n",
       "      <td>[]</td>\n",
       "      <td>0</td>\n",
       "      <td>0</td>\n",
       "      <td>0.404606</td>\n",
       "      <td>0.522239</td>\n",
       "      <td>0.237181</td>\n",
       "      <td>Vyas_ENI</td>\n",
       "    </tr>\n",
       "  </tbody>\n",
       "</table>\n",
       "</div>"
      ],
      "text/plain": [
       "           id   hostel  batch  dept                              clubs  \\\n",
       "0  s_f3560be4  Shankar   2022    CS            ['Literature', 'Music']   \n",
       "1  s_29b134d2      Ram   2023   EEE                          ['Drama']   \n",
       "2  s_d6f85434       VK   2025  CHEM  ['Music', 'Literature', 'Debate']   \n",
       "3  s_1964e81d     Budh   2022  MECH              ['Sports', 'Finance']   \n",
       "4  s_082a5e3b     Budh   2023   EEE                                 []   \n",
       "\n",
       "   friend_degree_proxy  online_reach_proxy  baseline_turnout_propensity  \\\n",
       "0                    0                   0                     0.120838   \n",
       "1                    0                   0                     0.477030   \n",
       "2                    0                   0                     0.298996   \n",
       "3                    0                   0                     0.442543   \n",
       "4                    0                   0                     0.404606   \n",
       "\n",
       "   slander_susceptibility  skepticism micro_community  \n",
       "0                0.106976    0.417944     Malviya_EEE  \n",
       "1                0.376599    0.625167       Gandhi_CS  \n",
       "2                0.870772    0.638572     Gandhi_CHEM  \n",
       "3                0.619186    0.659513         VK_MATH  \n",
       "4                0.522239    0.237181        Vyas_ENI  "
      ]
     },
     "execution_count": 3,
     "metadata": {},
     "output_type": "execute_result"
    }
   ],
   "source": [
    "students_df.head()"
   ]
  },
  {
   "cell_type": "code",
   "execution_count": 4,
   "metadata": {
    "execution": {
     "iopub.execute_input": "2025-10-03T18:41:49.348447Z",
     "iopub.status.busy": "2025-10-03T18:41:49.348378Z",
     "iopub.status.idle": "2025-10-03T18:41:49.350787Z",
     "shell.execute_reply": "2025-10-03T18:41:49.350607Z"
    }
   },
   "outputs": [
    {
     "data": {
      "text/html": [
       "<div>\n",
       "<style scoped>\n",
       "    .dataframe tbody tr th:only-of-type {\n",
       "        vertical-align: middle;\n",
       "    }\n",
       "\n",
       "    .dataframe tbody tr th {\n",
       "        vertical-align: top;\n",
       "    }\n",
       "\n",
       "    .dataframe thead th {\n",
       "        text-align: right;\n",
       "    }\n",
       "</style>\n",
       "<table border=\"1\" class=\"dataframe\">\n",
       "  <thead>\n",
       "    <tr style=\"text-align: right;\">\n",
       "      <th></th>\n",
       "      <th>source</th>\n",
       "      <th>target</th>\n",
       "      <th>layer</th>\n",
       "      <th>weight</th>\n",
       "    </tr>\n",
       "  </thead>\n",
       "  <tbody>\n",
       "    <tr>\n",
       "      <th>0</th>\n",
       "      <td>s_f3560be4</td>\n",
       "      <td>s_29610ec3</td>\n",
       "      <td>friendship</td>\n",
       "      <td>0.847960</td>\n",
       "    </tr>\n",
       "    <tr>\n",
       "      <th>1</th>\n",
       "      <td>s_29b134d2</td>\n",
       "      <td>s_0083a5ee</td>\n",
       "      <td>friendship</td>\n",
       "      <td>0.513807</td>\n",
       "    </tr>\n",
       "    <tr>\n",
       "      <th>2</th>\n",
       "      <td>s_29b134d2</td>\n",
       "      <td>s_de81f4e2</td>\n",
       "      <td>friendship</td>\n",
       "      <td>0.265109</td>\n",
       "    </tr>\n",
       "    <tr>\n",
       "      <th>3</th>\n",
       "      <td>s_29b134d2</td>\n",
       "      <td>s_587d1aa2</td>\n",
       "      <td>friendship</td>\n",
       "      <td>0.578895</td>\n",
       "    </tr>\n",
       "    <tr>\n",
       "      <th>4</th>\n",
       "      <td>s_29b134d2</td>\n",
       "      <td>s_c80a81b8</td>\n",
       "      <td>friendship</td>\n",
       "      <td>0.631099</td>\n",
       "    </tr>\n",
       "  </tbody>\n",
       "</table>\n",
       "</div>"
      ],
      "text/plain": [
       "       source      target       layer    weight\n",
       "0  s_f3560be4  s_29610ec3  friendship  0.847960\n",
       "1  s_29b134d2  s_0083a5ee  friendship  0.513807\n",
       "2  s_29b134d2  s_de81f4e2  friendship  0.265109\n",
       "3  s_29b134d2  s_587d1aa2  friendship  0.578895\n",
       "4  s_29b134d2  s_c80a81b8  friendship  0.631099"
      ]
     },
     "execution_count": 4,
     "metadata": {},
     "output_type": "execute_result"
    }
   ],
   "source": [
    "edges_df.head()"
   ]
  },
  {
   "cell_type": "markdown",
   "metadata": {},
   "source": [
    "## Construct the Graph"
   ]
  },
  {
   "cell_type": "code",
   "execution_count": 5,
   "metadata": {
    "execution": {
     "iopub.execute_input": "2025-10-03T18:41:49.351711Z",
     "iopub.status.busy": "2025-10-03T18:41:49.351652Z",
     "iopub.status.idle": "2025-10-03T18:41:56.269544Z",
     "shell.execute_reply": "2025-10-03T18:41:56.269121Z"
    }
   },
   "outputs": [],
   "source": [
    "G = nx.Graph()\n",
    "\n",
    "# Add nodes with attributes from the students dataframe\n",
    "for index, row in students_df.iterrows():\n",
    "    node_id = row['id']\n",
    "    attributes = row.to_dict()\n",
    "    G.add_node(node_id, **attributes)\n",
    "\n",
    "# Add edges with attributes from the edges dataframe\n",
    "for index, row in edges_df.iterrows():\n",
    "    G.add_edge(row['source'], row['target'], layer=row['layer'], weight=row['weight'])"
   ]
  },
  {
   "cell_type": "markdown",
   "metadata": {},
   "source": [
    "## Structural Validation"
   ]
  },
  {
   "cell_type": "code",
   "execution_count": 6,
   "metadata": {
    "execution": {
     "iopub.execute_input": "2025-10-03T18:41:56.271641Z",
     "iopub.status.busy": "2025-10-03T18:41:56.271464Z",
     "iopub.status.idle": "2025-10-03T18:41:56.274995Z",
     "shell.execute_reply": "2025-10-03T18:41:56.274658Z"
    }
   },
   "outputs": [
    {
     "name": "stdout",
     "output_type": "stream",
     "text": [
      "Graph constructed successfully.\n",
      "Number of nodes: 2000\n",
      "Number of edges: 244670\n"
     ]
    }
   ],
   "source": [
    "num_nodes = G.number_of_nodes()\n",
    "num_edges = G.number_of_edges()\n",
    "\n",
    "print(f\"Graph constructed successfully.\")\n",
    "print(f\"Number of nodes: {num_nodes}\")\n",
    "print(f\"Number of edges: {num_edges}\")"
   ]
  },
  {
   "cell_type": "markdown",
   "metadata": {},
   "source": [
    "### Degree Distribution"
   ]
  },
  {
   "cell_type": "code",
   "execution_count": 7,
   "metadata": {
    "execution": {
     "iopub.execute_input": "2025-10-03T18:41:56.276577Z",
     "iopub.status.busy": "2025-10-03T18:41:56.276480Z",
     "iopub.status.idle": "2025-10-03T18:41:56.379938Z",
     "shell.execute_reply": "2025-10-03T18:41:56.379582Z"
    }
   },
   "outputs": [
    {
     "data": {
      "image/png": "[encoded data removed]",
      "text/plain": [
       "<Figure size 1000x600 with 1 Axes>"
      ]
     },
     "metadata": {},
     "output_type": "display_data"
    }
   ],
   "source": [
    "degrees = [G.degree(n) for n in G.nodes()]\n",
    "\n",
    "plt.figure(figsize=(10, 6))\n",
    "plt.hist(degrees, bins=50, alpha=0.75)\n",
    "plt.title(\"Node Degree Distribution\")\n",
    "plt.xlabel(\"Degree\")\n",
    "plt.ylabel(\"Frequency\")\n",
    "plt.grid(True)\n",
    "plt.show()"
   ]
  },
  {
   "cell_type": "markdown",
   "metadata": {},
   "source": [
    "### Clustering Coefficient"
   ]
  },
  {
   "cell_type": "code",
   "execution_count": 8,
   "metadata": {
    "execution": {
     "iopub.execute_input": "2025-10-03T18:41:56.381673Z",
     "iopub.status.busy": "2025-10-03T18:41:56.381535Z",
     "iopub.status.idle": "2025-10-03T18:42:16.600932Z",
     "shell.execute_reply": "2025-10-03T18:42:16.600270Z"
    }
   },
   "outputs": [
    {
     "name": "stdout",
     "output_type": "stream",
     "text": [
      "Average Clustering Coefficient: 0.2540\n"
     ]
    }
   ],
   "source": [
    "# This can be slow for large graphs. We can sample if needed.\n",
    "avg_clustering = nx.average_clustering(G)\n",
    "\n",
    "print(f\"Average Clustering Coefficient: {avg_clustering:.4f}\")"
   ]
  },
  {
   "cell_type": "markdown",
   "metadata": {},
   "source": [
    "### Connected Components"
   ]
  },
  {
   "cell_type": "code",
   "execution_count": 9,
   "metadata": {
    "execution": {
     "iopub.execute_input": "2025-10-03T18:42:16.603362Z",
     "iopub.status.busy": "2025-10-03T18:42:16.603156Z",
     "iopub.status.idle": "2025-10-03T18:42:16.612209Z",
     "shell.execute_reply": "2025-10-03T18:42:16.611766Z"
    }
   },
   "outputs": [
    {
     "name": "stdout",
     "output_type": "stream",
     "text": [
      "Number of connected components: 1\n"
     ]
    }
   ],
   "source": [
    "num_components = nx.number_connected_components(G)\n",
    "print(f\"Number of connected components: {num_components}\")\n",
    "\n",
    "if num_components > 1:\n",
    "    largest_component = max(nx.connected_components(G), key=len)\n",
    "    print(f\"Size of largest component: {len(largest_component)} nodes\")"
   ]
  },
  {
   "cell_type": "markdown",
   "metadata": {},
   "source": [
    "### Multi-Layer Network Analysis"
   ]
  },
  {
   "cell_type": "code",
   "execution_count": 10,
   "metadata": {
    "execution": {
     "iopub.execute_input": "2025-10-03T18:42:16.614379Z",
     "iopub.status.busy": "2025-10-03T18:42:16.614188Z",
     "iopub.status.idle": "2025-10-03T18:42:16.634034Z",
     "shell.execute_reply": "2025-10-03T18:42:16.633587Z"
    }
   },
   "outputs": [
    {
     "name": "stdout",
     "output_type": "stream",
     "text": [
      "Edge Counts per Layer:\n",
      "layer\n",
      "club          204280\n",
      "friendship     41323\n",
      "residence       8775\n",
      "academic        5455\n",
      "Name: count, dtype: int64\n"
     ]
    }
   ],
   "source": [
    "layer_counts = edges_df['layer'].value_counts()\n",
    "print(\"Edge Counts per Layer:\")\n",
    "print(layer_counts)"
   ]
  },
  {
   "cell_type": "code",
   "execution_count": 11,
   "metadata": {
    "execution": {
     "iopub.execute_input": "2025-10-03T18:42:16.636186Z",
     "iopub.status.busy": "2025-10-03T18:42:16.636004Z",
     "iopub.status.idle": "2025-10-03T18:42:16.741777Z",
     "shell.execute_reply": "2025-10-03T18:42:16.741322Z"
    }
   },
   "outputs": [
    {
     "data": {
      "image/png": "[encoded data removed]",
      "text/plain": [
       "<Figure size 1000x600 with 1 Axes>"
      ]
     },
     "metadata": {},
     "output_type": "display_data"
    }
   ],
   "source": [
    "plt.figure(figsize=(10, 6))\n",
    "layer_counts.plot(kind='bar', color=['skyblue', 'coral', 'lightgreen', 'gold'])\n",
    "plt.title('Distribution of Edges Across Layers')\n",
    "plt.xlabel('Layer')\n",
    "plt.ylabel('Number of Edges')\n",
    "plt.xticks(rotation=45)\n",
    "plt.grid(axis='y', linestyle='--')\n",
    "plt.show()"
   ]
  },
  {
   "cell_type": "markdown",
   "metadata": {},
   "source": [
    "### Average Degree per Layer"
   ]
  },
  {
   "cell_type": "code",
   "execution_count": 12,
   "metadata": {
    "execution": {
     "iopub.execute_input": "2025-10-03T18:42:16.744060Z",
     "iopub.status.busy": "2025-10-03T18:42:16.743861Z",
     "iopub.status.idle": "2025-10-03T18:42:17.412373Z",
     "shell.execute_reply": "2025-10-03T18:42:17.411799Z"
    }
   },
   "outputs": [
    {
     "name": "stdout",
     "output_type": "stream",
     "text": [
      "Average degree for layer 'friendship': 36.70\n",
      "Average degree for layer 'residence': 12.36\n"
     ]
    },
    {
     "name": "stdout",
     "output_type": "stream",
     "text": [
      "Average degree for layer 'academic': 4.96\n"
     ]
    },
    {
     "name": "stdout",
     "output_type": "stream",
     "text": [
      "Average degree for layer 'club': 255.40\n"
     ]
    }
   ],
   "source": [
    "for layer in edges_df['layer'].unique():\n",
    "    layer_edges = [(u, v) for u, v, d in G.edges(data=True) if d['layer'] == layer]\n",
    "    subgraph = nx.Graph(layer_edges)\n",
    "    if subgraph.number_of_nodes() > 0:\n",
    "        avg_degree = sum(dict(subgraph.degree()).values()) / subgraph.number_of_nodes()\n",
    "        print(f\"Average degree for layer '{layer}': {avg_degree:.2f}\")"
   ]
  }
 ],
 "metadata": {
  "kernelspec": {
   "display_name": "Python 3",
   "language": "python",
   "name": "python3"
  },
  "language_info": {
   "codemirror_mode": {
    "name": "ipython",
    "version": 3
   },
   "file_extension": ".py",
   "mimetype": "text/x-python",
   "name": "python",
   "nbconvert_exporter": "python",
   "pygments_lexer": "ipython3",
   "version": "3.13.5"
  }
 },
 "nbformat": 4,
 "nbformat_minor": 4
}
