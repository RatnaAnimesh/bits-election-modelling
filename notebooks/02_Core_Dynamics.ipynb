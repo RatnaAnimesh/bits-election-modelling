{
 "cells": [
  {
   "cell_type": "markdown",
   "metadata": {},
   "source": [
    "# 2. Core Dynamics"
   ]
  },
  {
   "cell_type": "markdown",
   "metadata": {},
   "source": [
    "This notebook focuses on the core agent behavior: opinion updating and turnout propensity. We will create a simple simulation with only these dynamics and visualize the results."
   ]
  },
  {
   "cell_type": "code",
   "execution_count": null,
   "metadata": {},
   "outputs": [],
   "source": [
    "import pandas as pd\n",
    "import networkx as nx\n",
    "import matplotlib.pyplot as plt\n",
    "import numpy as np\n",
    "\n",
    "pd.options.display.max_rows = 10"
   ]
  },
  {
   "cell_type": "markdown",
   "metadata": {},
   "source": [
    "## Load Datasets"
   ]
  },
  {
   "cell_type": "code",
   "execution_count": null,
   "metadata": {},
   "outputs": [],
   "source": [
    "STUDENTS_PATH = \"../data/students.csv\"\n",
    "EDGES_PATH = \"../data/edges.csv\"\n",
    "\n",
    "try:\n",
    "    students_df = pd.read_csv(STUDENTS_PATH)\n",
    "    edges_df = pd.read_csv(EDGES_PATH)\n",
    "    print(\"Successfully loaded datasets.\")\n",
    "except FileNotFoundError as e:\n",
    "    print(f\"Error: {e}. Make sure you have run the data generation script first.\")"
   ]
  },
  {
   "cell_type": "markdown",
   "metadata": {},
   "source": [
    "## Construct the Graph"
   ]
  },
  {
   "cell_type": "code",
   "execution_count": null,
   "metadata": {},
   "outputs": [],
   "source": [
    "G = nx.Graph()\n",
    "\n",
    "# Add nodes with attributes from the students dataframe\n",
    "for index, row in students_df.iterrows():\n",
    "    node_id = row['id']\n",
    "    attributes = row.to_dict()\n",
    "    G.add_node(node_id, **attributes)\n",
    "\n",
    "# Add edges with attributes from the edges dataframe\n",
    "for index, row in edges_df.iterrows():\n",
    "    G.add_edge(row['source'], row['target'], layer=row['layer'], weight=row['weight'])"
   ]
  },
  {
   "cell_type": "markdown",
   "metadata": {},
   "source": [
    "## Simple Simulation"
   ]
  },
  {
   "cell_type": "code",
   "execution_count": null,
   "metadata": {},
   "outputs": [],
   "source": [
    "from src.model import ElectionModel\n",
    "\n",
    "model = ElectionModel(G.copy())\n",
    "model.release_manifestos()\n",
    "\n",
    "opinions_over_time = []\n",
    "turnout_over_time = []\n",
    "\n",
    "for i in range(10):\n",
    "    model.step()\n",
    "    \n",
    "    # Collect data\n",
    "    opinions = {post: {cand.id: [] for cand in cands} for post, cands in model.candidates_by_post.items()}\n",
    "    turnout = []\n",
    "    for agent in model.agents:\n",
    "        for post, op in agent.opinion.items():\n",
    "            for cand_id, score in op.items():\n",
    "                opinions[post][cand_id].append(score)\n",
    "        turnout.append(agent.turnout_propensity)\n",
    "    \n",
    "    avg_opinions = {post: {cand_id: np.mean(scores) for cand_id, scores in op.items()} for post, op in opinions.items()}\n",
    "    avg_turnout = np.mean(turnout)\n",
    "    \n",
    "    opinions_over_time.append(avg_opinions)\n",
    "    turnout_over_time.append(avg_turnout)"
   ]
  },
  {
   "cell_type": "markdown",
   "metadata": {},
   "source": [
    "## Sanity Plots"
   ]
  },
  {
   "cell_type": "code",
   "execution_count": null,
   "metadata": {},
   "outputs": [],
   "source": [
    "# Opinion Dynamics\n",
    "fig, ax = plt.subplots(figsize=(12, 6))\n",
    "\n",
    "for post, candidates in model.candidates_by_post.items():\n",
    "    for cand in candidates:\n",
    "        ax.plot([o[post][cand.id] for o in opinions_over_time], label=f'{post} - {cand.name}')\n",
    "\n",
    "ax.set_title('Average Candidate Support Over Time')\n",
    "ax.set_xlabel('Time Step')\n",
    "ax.set_ylabel('Average Opinion Score')\n",
    "ax.legend()\n",
    "plt.show()\n",
    "\n",
    "# Turnout Dynamics\n",
    "fig, ax = plt.subplots(figsize=(12, 6))\n",
    "ax.plot(turnout_over_time, label='Average Turnout Propensity')\n",
    "ax.set_title('Average Turnout Propensity Over Time')\n",
    "ax.set_xlabel('Time Step')\n",
    "ax.set_ylabel('Average Turnout Propensity')\n",
    "ax.legend()\n",
    "plt.show()"
   ]
  }
 ],
 "metadata": {
  "kernelspec": {
   "display_name": "Python 3",
   "language": "python",
   "name": "python3"
  },
  "language_info": {
   "codemirror_mode": {
    "name": "ipython",
    "version": 3
   },
   "file_extension": ".py",
   "mimetype": "text/x-python",
   "name": "python",
   "nbconvert_exporter": "python",
   "pygments_lexer": "ipython3",
   "version": "3.9.7"
  }
 },
 "nbformat": 4,
 "nbformat_minor": 4
}
