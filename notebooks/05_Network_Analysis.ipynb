{
 "cells": [
  {
   "cell_type": "markdown",
   "metadata": {},
   "source": [
    "# 5. Network Analysis"
   ]
  },
  {
   "cell_type": "markdown",
   "metadata": {},
   "source": [
    "This notebook performs a more in-depth analysis of the social network. We will calculate various network centrality measures to identify the most influential students and use community detection algorithms to identify the key communities in the student body."
   ]
  },
  {
   "cell_type": "code",
   "execution_count": null,
   "metadata": {},
   "outputs": [],
   "source": [
    "import sys\n",
    "import os\n",
    "sys.path.append(os.path.abspath('..'))\n",
    "import pandas as pd\n",
    "import networkx as nx\n",
    "import matplotlib.pyplot as plt\n",
    "import numpy as np\n",
    "import community as community_louvain\n",
    "\n",
    "pd.options.display.max_rows = 10"
   ]
  },
  {
   "cell_type": "markdown",
   "metadata": {},
   "source": [
    "## Load Datasets"
   ]
  },
  {
   "cell_type": "code",
   "execution_count": null,
   "metadata": {},
   "outputs": [],
   "source": [
    "STUDENTS_PATH = \"../data/students.csv\"\n",
    "EDGES_PATH = \"../data/edges.csv\"\n",
    "\n",
    "try:\n",
    "    students_df = pd.read_csv(STUDENTS_PATH)\n",
    "    edges_df = pd.read_csv(EDGES_PATH)\n",
    "    print(\"Successfully loaded datasets.\")\n",
    "except FileNotFoundError as e:\n",
    "    print(f\"Error: {e}. Make sure you have run the data generation script first.\")"
   ]
  },
  {
   "cell_type": "markdown",
   "metadata": {},
   "source": [
    "## Construct the Graph"
   ]
  },
  {
   "cell_type": "code",
   "execution_count": null,
   "metadata": {},
   "outputs": [],
   "source": [
    "G = nx.Graph()\n",
    "\n",
    "# Add nodes with attributes from the students dataframe\n",
    "for index, row in students_df.iterrows():\n",
    "    node_id = row['id']\n",
    "    attributes = row.to_dict()\n",
    "    G.add_node(node_id, **attributes)\n",
    "\n",
    "# Add edges with attributes from the edges dataframe\n",
    "for index, row in edges_df.iterrows():\n",
    "    G.add_edge(row['source'], row['target'], layer=row['layer'], weight=row['weight'])"
   ]
  },
  {
   "cell_type": "markdown",
   "metadata": {},
   "source": [
    "## Centrality Measures"
   ]
  },
  {
   "cell_type": "code",
   "execution_count": null,
   "metadata": {},
   "outputs": [],
   "source": [
    "degree_centrality = nx.degree_centrality(G)\n",
    "betweenness_centrality = nx.betweenness_centrality(G)\n",
    "eigenvector_centrality = nx.eigenvector_centrality(G)\n",
    "\n",
    "nx.set_node_attributes(G, degree_centrality, 'degree_centrality')\n",
    "nx.set_node_attributes(G, betweenness_centrality, 'betweenness_centrality')\n",
    "nx.set_node_attributes(G, eigenvector_centrality, 'eigenvector_centrality')\n",
    "\n",
    "# Get the top 10 most influential students by each centrality measure\n",
    "top_10_degree = sorted(degree_centrality.items(), key=lambda x: x[1], reverse=True)[:10]\n",
    "top_10_betweenness = sorted(betweenness_centrality.items(), key=lambda x: x[1], reverse=True)[:10]\n",
    "top_10_eigenvector = sorted(eigenvector_centrality.items(), key=lambda x: x[1], reverse=True)[:10]\n",
    "\n",
    "print(\"Top 10 most influential students by degree centrality:\")\n",
    "print(top_10_degree)\n",
    "print(\"\nTop 10 most influential students by betweenness centrality:\")\n",
    "print(top_10_betweenness)\n",
    "print(\"\nTop 10 most influential students by eigenvector centrality:\")\n",
    "print(top_10_eigenvector)"
   ]
  },
  {
   "cell_type": "markdown",
   "metadata": {},
   "source": [
    "## Community Detection"
   ]
  },
  {
   "cell_type": "code",
   "execution_count": null,
   "metadata": {},
   "outputs": [],
   "source": [
    "partition = community_louvain.best_partition(G)\n",
    "nx.set_node_attributes(G, partition, 'community')\n",
    "\n",
    "# Get the number of communities\n",
    "num_communities = len(set(partition.values()))\n",
    "print(f\"Number of communities: {num_communities}\")"
   ]
  },
  {
   "cell_type": "markdown",
   "metadata": {},
   "source": [
    "## Network Visualization"
   ]
  },
  {
   "cell_type": "code",
   "execution_count": null,
   "metadata": {},
   "outputs": [],
   "source": [
    "plt.figure(figsize=(12, 12))\n",
    "pos = nx.spring_layout(G, iterations=100)\n",
    "\n",
    "# Color nodes by community\n",
    "cmap = plt.get_cmap('viridis', num_communities)\n",
    "nx.draw_networkx_nodes(G, pos, node_size=[v * 10000 for v in degree_centrality.values()], cmap=cmap, node_color=list(partition.values()))\n",
    "\n",
    "# Draw edges\n",
    "nx.draw_networkx_edges(G, pos, alpha=0.1)\n",
    "\n",
    "plt.title('Social Network Graph')\n",
    "plt.show()"
   ]
  }
 ],
 "metadata": {
  "kernelspec": {
   "display_name": "Python 3",
   "language": "python",
   "name": "python3"
  },
  "language_info": {
   "codemirror_mode": {
    "name": "ipython",
    "version": 3
   },
   "file_extension": ".py",
   "mimetype": "text/x-python",
   "name": "python",
   "nbconvert_exporter": "python",
   "pygments_lexer": "ipython3",
   "version": "3.9.7"
  }
 },
 "nbformat": 4,
 "nbformat_minor": 4
}
