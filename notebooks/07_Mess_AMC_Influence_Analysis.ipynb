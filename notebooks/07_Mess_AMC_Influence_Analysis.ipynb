{
 "cells": [
  {
   "cell_type": "markdown",
   "metadata": {},
   "source": [
    "# 7. Mess and AMC Influence Analysis"
   ]
  },
  {
   "cell_type": "markdown",
   "metadata": {},
   "source": [
    "This notebook analyzes the impact of the new data and logic, including the mess representatives and the AMC members."
   ]
  },
  {
   "cell_type": "code",
   "execution_count": null,
   "metadata": {},
   "outputs": [],
   "source": [
    "import sys\n",
    "import os\n",
    "sys.path.append(os.path.abspath('..'))\n",
    "import pandas as pd\n",
    "import networkx as nx\n",
    "import matplotlib.pyplot as plt\n",
    "import numpy as np\n",
    "\n",
    "pd.options.display.max_rows = 10"
   ]
  },
  {
   "cell_type": "markdown",
   "metadata": {},
   "source": [
    "## Load Datasets"
   ]
  },
  {
   "cell_type": "code",
   "execution_count": null,
   "metadata": {},
   "outputs": [],
   "source": [
    "STUDENTS_PATH = \"../data/students.csv\"\n",
    "EDGES_PATH = \"../data/edges.csv\"\n",
    "\n",
    "try:\n",
    "    students_df = pd.read_csv(STUDENTS_PATH)\n",
    "    edges_df = pd.read_csv(EDGES_PATH)\n",
    "    print(\"Successfully loaded datasets.\")\n",
    "except FileNotFoundError as e:\n",
    "    print(f\"Error: {e}. Make sure you have run the data generation script first.\")"
   ]
  },
  {
   "cell_type": "markdown",
   "metadata": {},
   "source": [
    "## Construct the Graph"
   ]
  },
  {
   "cell_type": "code",
   "execution_count": null,
   "metadata": {},
   "outputs": [],
   "source": [
    "G = nx.Graph()\n",
    "\n",
    "# Add nodes with attributes from the students dataframe\n",
    "for index, row in students_df.iterrows():\n",
    "    node_id = row['id']\n",
    "    attributes = row.to_dict()\n",
    "    G.add_node(node_id, **attributes)\n",
    "\n",
    "# Add edges with attributes from the edges dataframe\n",
    "for index, row in edges_df.iterrows():\n",
    "    G.add_edge(row['source'], row['target'], layer=row['layer'], weight=row['weight'])"
   ]
  },
  {
   "cell_type": "markdown",
   "metadata": {},
   "source": [
    "## Simple Simulation"
   ]
  },
  {
   "cell_type": "code",
   "execution_count": null,
   "metadata": {},
   "outputs": [],
   "source": [
    "from src.model import ElectionModel\n",
    "\n",
    "model = ElectionModel(G.copy())\n",
    "model.release_manifestos()\n",
    "\n",
    "opinions_over_time = []\n",
    "turnout_over_time = []\n",
    "\n",
    "for i in range(10):\n",
    "    model.step()\n",
    "    \n",
    "    # Collect data\n",
    "    opinions = {post: {cand.id: [] for cand in cands} for post, cands in model.candidates_by_post.items()}\n",
    "    turnout = []\n",
    "    for agent in model.agents:\n",
    "        for post, op in agent.opinion.items():\n",
    "            for cand_id, score in op.items():\n",
    "                opinions[post][cand_id].append(score)\n",
    "        turnout.append(agent.turnout_propensity)\n",
    "    \n",
    "    avg_opinions = {post: {cand_id: np.mean(scores) for cand_id, scores in op.items()} for post, op in opinions.items()}\n",
    "    avg_turnout = np.mean(turnout)\n",
    "    \n",
    "    opinions_over_time.append(avg_opinions)\n",
    "    turnout_over_time.append(avg_turnout)"
   ]
  },
  {
   "cell_type": "markdown",
   "metadata": {},
   "source": [
    "## Analysis"
   ]
  },
  {
   "cell_type": "code",
   "execution_count": null,
   "metadata": {},
   "outputs": [],
   "source": [
    "# Compare the average opinion of students who are mess reps to those who are not\n",
    "mess_reps = [n for n, d in G.nodes(data=True) if d.get('is_mess_rep')]\n",
    "non_mess_reps = [n for n, d in G.nodes(data=True) if not d.get('is_mess_rep')]\n",
    "\n",
    "avg_opinion_mess_reps = {post: {cand.id: np.mean([model.grid.nodes[n]['agent'].opinion[post][cand.id] for n in mess_reps]) for cand in cands} for post, cands in model.candidates_by_post.items()}\n",
    "avg_opinion_non_mess_reps = {post: {cand.id: np.mean([model.grid.nodes[n]['agent'].opinion[post][cand.id] for n in non_mess_reps]) for cand in cands} for post, cands in model.candidates_by_post.items()}\n",
    "\n",
    "print(\"Average opinion of mess reps:\")\n",
    "print(avg_opinion_mess_reps)\n",
    "print('\nAverage opinion of non-mess reps:')\n",
    "print(avg_opinion_non_mess_reps)\n",
    "\n",
    "# Compare the average turnout of AMC members to non-members\n",
    "amc_members = [n for n, d in G.nodes(data=True) if d.get('is_amc_member')]\n",
    "non_amc_members = [n for n, d in G.nodes(data=True) if not d.get('is_amc_member')]\n",
    "\n",
    "avg_turnout_amc_members = np.mean([model.grid.nodes[n]['agent'].turnout_propensity for n in amc_members])\n",
    "avg_turnout_non_amc_members = np.mean([model.grid.nodes[n]['agent'].turnout_propensity for n in non_amc_members])\n",
    "\n",
    "print(f\"Average turnout of AMC members: {avg_turnout_amc_members}\")\n",
    "print(f\"Average turnout of non-AMC members: {avg_turnout_non_amc_members}\")"
   ]
  }
 ],
 "metadata": {
  "kernelspec": {
   "display_name": "Python 3",
   "language": "python",
   "name": "python3"
  },
  "language_info": {
   "codemirror_mode": {
    "name": "ipython",
    "version": 3
   },
   "file_extension": ".py",
   "mimetype": "text/x-python",
   "name": "python",
   "nbconvert_exporter": "python",
   "pygments_lexer": "ipython3",
   "version": "3.9.7"
  }
 },
 "nbformat": 4,
 "nbformat_minor": 4
}
